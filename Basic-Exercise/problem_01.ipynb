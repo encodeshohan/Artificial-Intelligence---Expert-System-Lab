{
  "nbformat": 4,
  "nbformat_minor": 0,
  "metadata": {
    "colab": {
      "provenance": []
    },
    "kernelspec": {
      "name": "python3",
      "display_name": "Python 3"
    },
    "language_info": {
      "name": "python"
    }
  },
  "cells": [
    {
      "cell_type": "code",
      "execution_count": 4,
      "metadata": {
        "colab": {
          "base_uri": "https://localhost:8080/"
        },
        "id": "XvdiYdhPhOhI",
        "outputId": "3acb793c-7a3b-4c88-8b5e-3ae6d3eaefd3"
      },
      "outputs": [
        {
          "output_type": "stream",
          "name": "stdout",
          "text": [
            "Enter the first Integer: 52\n",
            "Enter the second Integer: 0\n",
            "X:  52\n",
            "Y:  0\n",
            "Z:  0\n"
          ]
        }
      ],
      "source": [
        "'''\n",
        "Take two integer values as input and store them in two variables named X and Y. Multiply these two values and store the result in another variable named Z. Print the values of the variables: X, Y and Z.\n",
        "Input() – is used to take input.\n",
        "Print() – is used to print a value.\n",
        "'''\n",
        "\n",
        "X = int(input(\"Enter the first Integer: \"))\n",
        "Y = int(input(\"Enter the second Integer: \"))\n",
        "Z = X * Y\n",
        "print(\"X: \", X)\n",
        "print(\"Y: \", Y)\n",
        "print(\"Z: \", Z)"
      ]
    }
  ]
}