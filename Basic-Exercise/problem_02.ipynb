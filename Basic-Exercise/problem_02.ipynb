{
  "nbformat": 4,
  "nbformat_minor": 0,
  "metadata": {
    "colab": {
      "provenance": []
    },
    "kernelspec": {
      "name": "python3",
      "display_name": "Python 3"
    },
    "language_info": {
      "name": "python"
    }
  },
  "cells": [
    {
      "cell_type": "code",
      "execution_count": null,
      "metadata": {
        "colab": {
          "base_uri": "https://localhost:8080/"
        },
        "id": "D1BeyZbJc-17",
        "outputId": "86592385-2661-4a90-9be6-444de3f71f2d"
      },
      "outputs": [
        {
          "output_type": "stream",
          "name": "stdout",
          "text": [
            "Python version: 3.10.12 (main, Nov 20 2023, 15:14:05) [GCC 11.4.0]\n"
          ]
        }
      ],
      "source": [
        "'''\n",
        "Find and print the python version that you are using.\n",
        "Use sys.version (module sys) or platform.python_version() (module platform) to find the version.\n",
        "'''\n",
        "\n",
        "import sys\n",
        "print(\"Python version:\", sys.version)"
      ]
    }
  ]
}