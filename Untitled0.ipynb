{
  "nbformat": 4,
  "nbformat_minor": 0,
  "metadata": {
    "colab": {
      "provenance": []
    },
    "kernelspec": {
      "name": "python3",
      "display_name": "Python 3"
    },
    "language_info": {
      "name": "python"
    }
  },
  "cells": [
    {
      "cell_type": "code",
      "execution_count": 1,
      "metadata": {
        "colab": {
          "base_uri": "https://localhost:8080/"
        },
        "id": "XvdiYdhPhOhI",
        "outputId": "1f6d0ab5-dd0a-475b-e30b-f9496e626ec2"
      },
      "outputs": [
        {
          "output_type": "stream",
          "name": "stdout",
          "text": [
            "Welcome to Python\n"
          ]
        }
      ],
      "source": [
        "print(\"Welcome to Python\")"
      ]
    },
    {
      "cell_type": "code",
      "source": [
        "X = int(input(\"Enter the first Integer: \"))\n",
        "Y = int(input(\"Enter the second Integer: \"))\n",
        "Z = X * Y\n",
        "print(\"X:\", X)\n",
        "print(\"Y:\", Y)\n",
        "print(\"Z:\", Z)"
      ],
      "metadata": {
        "colab": {
          "base_uri": "https://localhost:8080/"
        },
        "id": "Zhl-lEblnXdu",
        "outputId": "0c70c8ba-fb28-4999-e726-8a77d9a96400"
      },
      "execution_count": 2,
      "outputs": [
        {
          "output_type": "stream",
          "name": "stdout",
          "text": [
            "Enter the first Integer: 10\n",
            "Enter the second Integer: 5\n",
            "X: 10\n",
            "Y: 5\n",
            "Z: 50\n"
          ]
        }
      ]
    }
  ]
}